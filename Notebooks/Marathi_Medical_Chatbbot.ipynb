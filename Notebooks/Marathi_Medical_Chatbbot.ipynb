{
  "cells": [
    {
      "cell_type": "markdown",
      "metadata": {
        "id": "PG6D8YEY-ASO"
      },
      "source": [
        "Here I Used the news articles provided by the Marathi Corpus by the NLTK\n",
        "library.I trained a Unigram POS Tagger provided by the NLTK library to train on\n",
        "the Marathi corpus."
      ]
    },
    {
      "cell_type": "markdown",
      "metadata": {
        "id": "ZBBHl3IN-ASP"
      },
      "source": [
        "### Step 1: Necessary Dependancies"
      ]
    },
    {
      "cell_type": "code",
      "execution_count": null,
      "metadata": {
        "colab": {
          "base_uri": "https://localhost:8080/"
        },
        "id": "K_CDSjdU2IcX",
        "outputId": "1ae66a27-b8df-465f-a257-aaefcac542b2"
      },
      "outputs": [
        {
          "output_type": "stream",
          "name": "stdout",
          "text": [
            "Looking in indexes: https://pypi.org/simple, https://us-python.pkg.dev/colab-wheels/public/simple/\n",
            "Collecting stopwordsiso\n",
            "  Downloading stopwordsiso-0.6.1-py3-none-any.whl (73 kB)\n",
            "\u001b[K     |████████████████████████████████| 73 kB 1.6 MB/s \n",
            "\u001b[?25hInstalling collected packages: stopwordsiso\n",
            "Successfully installed stopwordsiso-0.6.1\n",
            "Looking in indexes: https://pypi.org/simple, https://us-python.pkg.dev/colab-wheels/public/simple/\n",
            "Collecting stanza\n",
            "  Downloading stanza-1.4.2-py3-none-any.whl (691 kB)\n",
            "\u001b[K     |████████████████████████████████| 691 kB 7.5 MB/s \n",
            "\u001b[?25hRequirement already satisfied: torch>=1.3.0 in /usr/local/lib/python3.7/dist-packages (from stanza) (1.12.1+cu113)\n",
            "Requirement already satisfied: numpy in /usr/local/lib/python3.7/dist-packages (from stanza) (1.21.6)\n",
            "Requirement already satisfied: protobuf in /usr/local/lib/python3.7/dist-packages (from stanza) (3.17.3)\n",
            "Collecting emoji\n",
            "  Downloading emoji-2.1.0.tar.gz (216 kB)\n",
            "\u001b[K     |████████████████████████████████| 216 kB 62.2 MB/s \n",
            "\u001b[?25hRequirement already satisfied: tqdm in /usr/local/lib/python3.7/dist-packages (from stanza) (4.64.1)\n",
            "Requirement already satisfied: six in /usr/local/lib/python3.7/dist-packages (from stanza) (1.15.0)\n",
            "Requirement already satisfied: requests in /usr/local/lib/python3.7/dist-packages (from stanza) (2.23.0)\n",
            "Requirement already satisfied: typing-extensions in /usr/local/lib/python3.7/dist-packages (from torch>=1.3.0->stanza) (4.1.1)\n",
            "Requirement already satisfied: certifi>=2017.4.17 in /usr/local/lib/python3.7/dist-packages (from requests->stanza) (2022.9.24)\n",
            "Requirement already satisfied: chardet<4,>=3.0.2 in /usr/local/lib/python3.7/dist-packages (from requests->stanza) (3.0.4)\n",
            "Requirement already satisfied: urllib3!=1.25.0,!=1.25.1,<1.26,>=1.21.1 in /usr/local/lib/python3.7/dist-packages (from requests->stanza) (1.24.3)\n",
            "Requirement already satisfied: idna<3,>=2.5 in /usr/local/lib/python3.7/dist-packages (from requests->stanza) (2.10)\n",
            "Building wheels for collected packages: emoji\n",
            "  Building wheel for emoji (setup.py) ... \u001b[?25l\u001b[?25hdone\n",
            "  Created wheel for emoji: filename=emoji-2.1.0-py3-none-any.whl size=212392 sha256=be42cd937b314fe2d13e4b06168e24135880e7abb68e23adc269bbc774c6858d\n",
            "  Stored in directory: /root/.cache/pip/wheels/77/75/99/51c2a119f4cfd3af7b49cc57e4f737bed7e40b348a85d82804\n",
            "Successfully built emoji\n",
            "Installing collected packages: emoji, stanza\n",
            "Successfully installed emoji-2.1.0 stanza-1.4.2\n",
            "Looking in indexes: https://pypi.org/simple, https://us-python.pkg.dev/colab-wheels/public/simple/\n",
            "Collecting gradio\n",
            "  Downloading gradio-3.7-py3-none-any.whl (11.6 MB)\n",
            "\u001b[K     |████████████████████████████████| 11.6 MB 4.7 MB/s \n",
            "\u001b[?25hCollecting ffmpy\n",
            "  Downloading ffmpy-0.3.0.tar.gz (4.8 kB)\n",
            "Collecting fastapi\n",
            "  Downloading fastapi-0.85.1-py3-none-any.whl (55 kB)\n",
            "\u001b[K     |████████████████████████████████| 55 kB 4.0 MB/s \n",
            "\u001b[?25hRequirement already satisfied: pandas in /usr/local/lib/python3.7/dist-packages (from gradio) (1.3.5)\n",
            "Requirement already satisfied: numpy in /usr/local/lib/python3.7/dist-packages (from gradio) (1.21.6)\n",
            "Collecting paramiko\n",
            "  Downloading paramiko-2.11.0-py2.py3-none-any.whl (212 kB)\n",
            "\u001b[K     |████████████████████████████████| 212 kB 45.4 MB/s \n",
            "\u001b[?25hCollecting pycryptodome\n",
            "  Downloading pycryptodome-3.15.0-cp35-abi3-manylinux2010_x86_64.whl (2.3 MB)\n",
            "\u001b[K     |████████████████████████████████| 2.3 MB 36.1 MB/s \n",
            "\u001b[?25hRequirement already satisfied: requests in /usr/local/lib/python3.7/dist-packages (from gradio) (2.23.0)\n",
            "Collecting h11<0.13,>=0.11\n",
            "  Downloading h11-0.12.0-py3-none-any.whl (54 kB)\n",
            "\u001b[K     |████████████████████████████████| 54 kB 3.0 MB/s \n",
            "\u001b[?25hRequirement already satisfied: fsspec in /usr/local/lib/python3.7/dist-packages (from gradio) (2022.10.0)\n",
            "Requirement already satisfied: pyyaml in /usr/local/lib/python3.7/dist-packages (from gradio) (6.0)\n",
            "Collecting orjson\n",
            "  Downloading orjson-3.8.1-cp37-cp37m-manylinux_2_17_x86_64.manylinux2014_x86_64.whl (272 kB)\n",
            "\u001b[K     |████████████████████████████████| 272 kB 57.9 MB/s \n",
            "\u001b[?25hRequirement already satisfied: aiohttp in /usr/local/lib/python3.7/dist-packages (from gradio) (3.8.3)\n",
            "Collecting pydub\n",
            "  Downloading pydub-0.25.1-py2.py3-none-any.whl (32 kB)\n",
            "Requirement already satisfied: pillow in /usr/local/lib/python3.7/dist-packages (from gradio) (7.1.2)\n",
            "Collecting python-multipart\n",
            "  Downloading python-multipart-0.0.5.tar.gz (32 kB)\n",
            "Requirement already satisfied: matplotlib in /usr/local/lib/python3.7/dist-packages (from gradio) (3.2.2)\n",
            "Collecting markdown-it-py[linkify,plugins]\n",
            "  Downloading markdown_it_py-2.1.0-py3-none-any.whl (84 kB)\n",
            "\u001b[K     |████████████████████████████████| 84 kB 3.9 MB/s \n",
            "\u001b[?25hRequirement already satisfied: pydantic in /usr/local/lib/python3.7/dist-packages (from gradio) (1.10.2)\n",
            "Collecting uvicorn\n",
            "  Downloading uvicorn-0.19.0-py3-none-any.whl (56 kB)\n",
            "\u001b[K     |████████████████████████████████| 56 kB 5.5 MB/s \n",
            "\u001b[?25hCollecting websockets\n",
            "  Downloading websockets-10.4-cp37-cp37m-manylinux_2_5_x86_64.manylinux1_x86_64.manylinux_2_17_x86_64.manylinux2014_x86_64.whl (106 kB)\n",
            "\u001b[K     |████████████████████████████████| 106 kB 59.8 MB/s \n",
            "\u001b[?25hRequirement already satisfied: jinja2 in /usr/local/lib/python3.7/dist-packages (from gradio) (2.11.3)\n",
            "Collecting httpx\n",
            "  Downloading httpx-0.23.0-py3-none-any.whl (84 kB)\n",
            "\u001b[K     |████████████████████████████████| 84 kB 4.1 MB/s \n",
            "\u001b[?25hRequirement already satisfied: yarl<2.0,>=1.0 in /usr/local/lib/python3.7/dist-packages (from aiohttp->gradio) (1.8.1)\n",
            "Requirement already satisfied: attrs>=17.3.0 in /usr/local/lib/python3.7/dist-packages (from aiohttp->gradio) (22.1.0)\n",
            "Requirement already satisfied: async-timeout<5.0,>=4.0.0a3 in /usr/local/lib/python3.7/dist-packages (from aiohttp->gradio) (4.0.2)\n",
            "Requirement already satisfied: charset-normalizer<3.0,>=2.0 in /usr/local/lib/python3.7/dist-packages (from aiohttp->gradio) (2.1.1)\n",
            "Requirement already satisfied: multidict<7.0,>=4.5 in /usr/local/lib/python3.7/dist-packages (from aiohttp->gradio) (6.0.2)\n",
            "Requirement already satisfied: aiosignal>=1.1.2 in /usr/local/lib/python3.7/dist-packages (from aiohttp->gradio) (1.2.0)\n",
            "Requirement already satisfied: asynctest==0.13.0 in /usr/local/lib/python3.7/dist-packages (from aiohttp->gradio) (0.13.0)\n",
            "Requirement already satisfied: typing-extensions>=3.7.4 in /usr/local/lib/python3.7/dist-packages (from aiohttp->gradio) (4.1.1)\n",
            "Requirement already satisfied: frozenlist>=1.1.1 in /usr/local/lib/python3.7/dist-packages (from aiohttp->gradio) (1.3.1)\n",
            "Requirement already satisfied: idna>=2.0 in /usr/local/lib/python3.7/dist-packages (from yarl<2.0,>=1.0->aiohttp->gradio) (2.10)\n",
            "Collecting starlette==0.20.4\n",
            "  Downloading starlette-0.20.4-py3-none-any.whl (63 kB)\n",
            "\u001b[K     |████████████████████████████████| 63 kB 2.7 MB/s \n",
            "\u001b[?25hCollecting anyio<5,>=3.4.0\n",
            "  Downloading anyio-3.6.2-py3-none-any.whl (80 kB)\n",
            "\u001b[K     |████████████████████████████████| 80 kB 10.9 MB/s \n",
            "\u001b[?25hCollecting sniffio>=1.1\n",
            "  Downloading sniffio-1.3.0-py3-none-any.whl (10 kB)\n",
            "Requirement already satisfied: certifi in /usr/local/lib/python3.7/dist-packages (from httpx->gradio) (2022.9.24)\n",
            "Collecting rfc3986[idna2008]<2,>=1.3\n",
            "  Downloading rfc3986-1.5.0-py2.py3-none-any.whl (31 kB)\n",
            "Collecting httpcore<0.16.0,>=0.15.0\n",
            "  Downloading httpcore-0.15.0-py3-none-any.whl (68 kB)\n",
            "\u001b[K     |████████████████████████████████| 68 kB 7.9 MB/s \n",
            "\u001b[?25hRequirement already satisfied: MarkupSafe>=0.23 in /usr/local/lib/python3.7/dist-packages (from jinja2->gradio) (2.0.1)\n",
            "Collecting mdurl~=0.1\n",
            "  Downloading mdurl-0.1.2-py3-none-any.whl (10.0 kB)\n",
            "Collecting linkify-it-py~=1.0\n",
            "  Downloading linkify_it_py-1.0.3-py3-none-any.whl (19 kB)\n",
            "Collecting mdit-py-plugins\n",
            "  Downloading mdit_py_plugins-0.3.1-py3-none-any.whl (46 kB)\n",
            "\u001b[K     |████████████████████████████████| 46 kB 4.9 MB/s \n",
            "\u001b[?25hCollecting uc-micro-py\n",
            "  Downloading uc_micro_py-1.0.1-py3-none-any.whl (6.2 kB)\n",
            "Requirement already satisfied: kiwisolver>=1.0.1 in /usr/local/lib/python3.7/dist-packages (from matplotlib->gradio) (1.4.4)\n",
            "Requirement already satisfied: cycler>=0.10 in /usr/local/lib/python3.7/dist-packages (from matplotlib->gradio) (0.11.0)\n",
            "Requirement already satisfied: pyparsing!=2.0.4,!=2.1.2,!=2.1.6,>=2.0.1 in /usr/local/lib/python3.7/dist-packages (from matplotlib->gradio) (3.0.9)\n",
            "Requirement already satisfied: python-dateutil>=2.1 in /usr/local/lib/python3.7/dist-packages (from matplotlib->gradio) (2.8.2)\n",
            "Requirement already satisfied: six>=1.5 in /usr/local/lib/python3.7/dist-packages (from python-dateutil>=2.1->matplotlib->gradio) (1.15.0)\n",
            "Requirement already satisfied: pytz>=2017.3 in /usr/local/lib/python3.7/dist-packages (from pandas->gradio) (2022.5)\n",
            "Collecting pynacl>=1.0.1\n",
            "  Downloading PyNaCl-1.5.0-cp36-abi3-manylinux_2_17_x86_64.manylinux2014_x86_64.manylinux_2_24_x86_64.whl (856 kB)\n",
            "\u001b[K     |████████████████████████████████| 856 kB 67.8 MB/s \n",
            "\u001b[?25hCollecting cryptography>=2.5\n",
            "  Downloading cryptography-38.0.1-cp36-abi3-manylinux_2_24_x86_64.whl (4.0 MB)\n",
            "\u001b[K     |████████████████████████████████| 4.0 MB 35.6 MB/s \n",
            "\u001b[?25hCollecting bcrypt>=3.1.3\n",
            "  Downloading bcrypt-4.0.1-cp36-abi3-manylinux_2_24_x86_64.whl (593 kB)\n",
            "\u001b[K     |████████████████████████████████| 593 kB 61.1 MB/s \n",
            "\u001b[?25hRequirement already satisfied: cffi>=1.12 in /usr/local/lib/python3.7/dist-packages (from cryptography>=2.5->paramiko->gradio) (1.15.1)\n",
            "Requirement already satisfied: pycparser in /usr/local/lib/python3.7/dist-packages (from cffi>=1.12->cryptography>=2.5->paramiko->gradio) (2.21)\n",
            "Requirement already satisfied: urllib3!=1.25.0,!=1.25.1,<1.26,>=1.21.1 in /usr/local/lib/python3.7/dist-packages (from requests->gradio) (1.24.3)\n",
            "Requirement already satisfied: chardet<4,>=3.0.2 in /usr/local/lib/python3.7/dist-packages (from requests->gradio) (3.0.4)\n",
            "Requirement already satisfied: click>=7.0 in /usr/local/lib/python3.7/dist-packages (from uvicorn->gradio) (7.1.2)\n",
            "Building wheels for collected packages: ffmpy, python-multipart\n",
            "  Building wheel for ffmpy (setup.py) ... \u001b[?25l\u001b[?25hdone\n",
            "  Created wheel for ffmpy: filename=ffmpy-0.3.0-py3-none-any.whl size=4712 sha256=8ad0cd800d4e26346b762b1fd0d25e47ea4984670adee6911224b1f351e53bf6\n",
            "  Stored in directory: /root/.cache/pip/wheels/13/e4/6c/e8059816e86796a597c6e6b0d4c880630f51a1fcfa0befd5e6\n",
            "  Building wheel for python-multipart (setup.py) ... \u001b[?25l\u001b[?25hdone\n",
            "  Created wheel for python-multipart: filename=python_multipart-0.0.5-py3-none-any.whl size=31678 sha256=d3df082c6e9bc2f73a4ae56ec421b63d61123aeca0c81923b12a2733acf9a262\n",
            "  Stored in directory: /root/.cache/pip/wheels/2c/41/7c/bfd1c180534ffdcc0972f78c5758f89881602175d48a8bcd2c\n",
            "Successfully built ffmpy python-multipart\n",
            "Installing collected packages: sniffio, mdurl, uc-micro-py, rfc3986, markdown-it-py, h11, anyio, starlette, pynacl, mdit-py-plugins, linkify-it-py, httpcore, cryptography, bcrypt, websockets, uvicorn, python-multipart, pydub, pycryptodome, paramiko, orjson, httpx, ffmpy, fastapi, gradio\n",
            "Successfully installed anyio-3.6.2 bcrypt-4.0.1 cryptography-38.0.1 fastapi-0.85.1 ffmpy-0.3.0 gradio-3.7 h11-0.12.0 httpcore-0.15.0 httpx-0.23.0 linkify-it-py-1.0.3 markdown-it-py-2.1.0 mdit-py-plugins-0.3.1 mdurl-0.1.2 orjson-3.8.1 paramiko-2.11.0 pycryptodome-3.15.0 pydub-0.25.1 pynacl-1.5.0 python-multipart-0.0.5 rfc3986-1.5.0 sniffio-1.3.0 starlette-0.20.4 uc-micro-py-1.0.1 uvicorn-0.19.0 websockets-10.4\n"
          ]
        }
      ],
      "source": [
        "!pip install stopwordsiso\n",
        "!pip install stanza\n",
        "!pip install gradio"
      ]
    },
    {
      "cell_type": "code",
      "execution_count": null,
      "metadata": {
        "colab": {
          "base_uri": "https://localhost:8080/"
        },
        "id": "lE_C7rmp3NZr",
        "outputId": "6ed3acc9-9a1b-47f2-f0a7-e18f83b98bdc"
      },
      "outputs": [
        {
          "output_type": "stream",
          "name": "stdout",
          "text": [
            "Looking in indexes: https://pypi.org/simple, https://us-python.pkg.dev/colab-wheels/public/simple/\n",
            "Requirement already satisfied: torch in /usr/local/lib/python3.7/dist-packages (1.12.1+cu113)\n",
            "Requirement already satisfied: typing-extensions in /usr/local/lib/python3.7/dist-packages (from torch) (4.1.1)\n"
          ]
        }
      ],
      "source": []
    },
    {
      "cell_type": "code",
      "execution_count": null,
      "metadata": {
        "colab": {
          "base_uri": "https://localhost:8080/"
        },
        "id": "Z-5JEEbW-ASP",
        "outputId": "cb37f8d7-28b3-43cf-f97a-9da9270a7b2b"
      },
      "outputs": [
        {
          "output_type": "stream",
          "name": "stderr",
          "text": [
            "/usr/local/lib/python3.7/dist-packages/ipykernel_launcher.py:10: FutureWarning: Passing a negative integer is deprecated in version 1.0 and will not be supported in future version. Instead, use None to not limit the column width.\n",
            "  # Remove the CWD from sys.path while we load stuff.\n",
            "[nltk_data] Downloading package indian to /root/nltk_data...\n",
            "[nltk_data]   Unzipping corpora/indian.zip.\n"
          ]
        },
        {
          "output_type": "execute_result",
          "data": {
            "text/plain": [
              "True"
            ]
          },
          "metadata": {},
          "execution_count": 3
        }
      ],
      "source": [
        "import nltk\n",
        "import pandas as pd\n",
        "\n",
        "from nltk import word_tokenize\n",
        "from nltk.tag import untag\n",
        "from nltk import UnigramTagger\n",
        "from nltk.corpus import indian\n",
        "nltk.download('punkt')\n",
        "nltk.download('indian')\n",
        "\n",
        "pd.set_option('display.max_columns', None)  \n",
        "pd.set_option('display.expand_frame_repr', False)\n",
        "pd.set_option('max_colwidth', -1)"
      ]
    },
    {
      "cell_type": "code",
      "execution_count": null,
      "metadata": {
        "colab": {
          "base_uri": "https://localhost:8080/"
        },
        "id": "lSOM4UKk-T4h",
        "outputId": "e00b5fc2-40a0-4f1b-ade2-3e9b4cbeab5b"
      },
      "outputs": [
        {
          "output_type": "stream",
          "name": "stderr",
          "text": [
            "[nltk_data] Downloading package punkt to /root/nltk_data...\n",
            "[nltk_data]   Unzipping tokenizers/punkt.zip.\n"
          ]
        },
        {
          "output_type": "execute_result",
          "data": {
            "text/plain": [
              "True"
            ]
          },
          "metadata": {},
          "execution_count": 4
        }
      ],
      "source": []
    },
    {
      "cell_type": "markdown",
      "metadata": {
        "id": "zoutNQy6-ASR"
      },
      "source": [
        "### Step 2: Load Data"
      ]
    },
    {
      "cell_type": "code",
      "execution_count": null,
      "metadata": {
        "id": "xXyCyb0u-ASS"
      },
      "outputs": [],
      "source": [
        "tagged_set = 'marathi.pos'\n",
        "articles = indian.sents(tagged_set)"
      ]
    },
    {
      "cell_type": "code",
      "execution_count": null,
      "metadata": {
        "colab": {
          "base_uri": "https://localhost:8080/"
        },
        "id": "IJpQO5dg-ASS",
        "outputId": "8c3d5446-d058-4360-d1f7-79ecbd314a61"
      },
      "outputs": [
        {
          "output_type": "stream",
          "name": "stdout",
          "text": [
            "''\n",
            "सनातनवाद्यांनी\n",
            "व\n",
            "प्रतिगाम्यांनी\n",
            "समाज\n",
            "रसातळाला\n",
            "नेला\n",
            "असताना\n",
            "या\n",
            "अंधारात\n",
            "बाळशास्त्री\n",
            "जांभेकर\n",
            "यांनी\n",
            "'दर्पण'च्या\n",
            "माध्यमातून\n",
            "पहिली\n",
            "ज्ञानज्योत\n",
            "तेववली\n",
            ",\n",
            "''\n",
            "असे\n",
            "प्रतिपादन\n",
            "नटसम्राट\n",
            "प्रभाकर\n",
            "पणशीकर\n",
            "यांनी\n",
            "केले\n",
            ".\n"
          ]
        }
      ],
      "source": [
        "count = 0\n",
        "for sentence in articles[0]:\n",
        "    print(sentence)     #View the dataset"
      ]
    },
    {
      "cell_type": "code",
      "execution_count": null,
      "metadata": {
        "id": "jD4sJ8yW-AST"
      },
      "outputs": [],
      "source": [
        "count=len(articles)  #Size of dataset"
      ]
    },
    {
      "cell_type": "markdown",
      "metadata": {
        "id": "7_NqI2DP-ASU"
      },
      "source": [
        "\n",
        "\n",
        "We could therefore find POS tags for 1197 sentences.\n",
        "\n",
        "\n",
        "Lets view the first article...\n"
      ]
    },
    {
      "cell_type": "code",
      "execution_count": null,
      "metadata": {
        "colab": {
          "base_uri": "https://localhost:8080/",
          "height": 35
        },
        "id": "dYK7OcSP-ASV",
        "outputId": "f329e61b-08f7-4263-af3e-8097e66399a9"
      },
      "outputs": [
        {
          "output_type": "execute_result",
          "data": {
            "text/plain": [
              "\"'' सनातनवाद्यांनी व प्रतिगाम्यांनी समाज रसातळाला नेला असताना या अंधारात बाळशास्त्री जांभेकर यांनी 'दर्पण'च्या माध्यमातून पहिली ज्ञानज्योत तेववली , '' असे प्रतिपादन नटसम्राट प्रभाकर पणशीकर यांनी केले .\""
            ],
            "application/vnd.google.colaboratory.intrinsic+json": {
              "type": "string"
            }
          },
          "metadata": {},
          "execution_count": 8
        }
      ],
      "source": [
        "sentence1 = \" \".join(articles[0])\n",
        "sentence1"
      ]
    },
    {
      "cell_type": "code",
      "execution_count": null,
      "metadata": {
        "colab": {
          "base_uri": "https://localhost:8080/"
        },
        "id": "J0DmoIQJ-ASV",
        "outputId": "41cf019f-774c-472d-a716-81467ffdf25c"
      },
      "outputs": [
        {
          "output_type": "stream",
          "name": "stdout",
          "text": [
            "1197\n"
          ]
        }
      ],
      "source": [
        "print(count)"
      ]
    },
    {
      "cell_type": "markdown",
      "metadata": {
        "id": "R_-0q9DZ-ASW"
      },
      "source": [
        "### Step 3: Split dataset into training and testing"
      ]
    },
    {
      "cell_type": "code",
      "execution_count": null,
      "metadata": {
        "colab": {
          "base_uri": "https://localhost:8080/"
        },
        "id": "WsU_WaPo-ASW",
        "outputId": "1371dfe3-2029-426e-856d-41c1493a878b"
      },
      "outputs": [
        {
          "output_type": "stream",
          "name": "stdout",
          "text": [
            "1077 1078\n"
          ]
        }
      ],
      "source": [
        "train_perc = .9\n",
        "train_rows = int(train_perc*count)\n",
        "test_rows = train_rows + 1\n",
        "print(train_rows,test_rows)"
      ]
    },
    {
      "cell_type": "code",
      "execution_count": null,
      "metadata": {
        "id": "CdUT3qWK-ASX"
      },
      "outputs": [],
      "source": [
        "\n",
        "data = indian.tagged_sents(tagged_set)\n",
        "train_data = data[:train_rows] \n",
        "test_data = data[test_rows:]\n"
      ]
    },
    {
      "cell_type": "markdown",
      "metadata": {
        "id": "qYqr7BeZ-ASX"
      },
      "source": [
        "### Step 4: Training the model"
      ]
    },
    {
      "cell_type": "markdown",
      "metadata": {
        "id": "NiR5gLNB-ASX"
      },
      "source": [
        "The Unigram tagger (n-gram, n = 1) is a simple statistical tagging algorithm. For each token, it assigns the tag that is most likely for that token. For example, it will\n",
        "assign the tag ‘adj’ to any occurrence of the word ‘frequent’, since ‘frequent’ is used as an adjective (e.g. a frequent word) more often than it is used as a verb (e.g. I\n",
        "frequent this cafe).\n"
      ]
    },
    {
      "cell_type": "markdown",
      "metadata": {
        "id": "7KH20ap_-ASY"
      },
      "source": [
        " #### Simple unigram model without backoff tagger"
      ]
    },
    {
      "cell_type": "code",
      "execution_count": null,
      "metadata": {
        "colab": {
          "base_uri": "https://localhost:8080/"
        },
        "id": "TLL1te2E-ASY",
        "outputId": "1309f333-4bdb-4b66-fd05-957ab3a9932b"
      },
      "outputs": [
        {
          "output_type": "execute_result",
          "data": {
            "text/plain": [
              "[('ज्या', 'PRP'),\n",
              " ('देशवासीयांकडे', None),\n",
              " ('केबल', 'NN'),\n",
              " ('नाही', 'VAUX'),\n",
              " (',', 'SYM'),\n",
              " ('त्यांना', 'PRP'),\n",
              " ('सात', 'QC'),\n",
              " ('मिनिटे', 'NN'),\n",
              " ('उशिरा', None),\n",
              " ('सामना', 'NN'),\n",
              " ('दाखवावा', None),\n",
              " ('लागत', 'VAUX'),\n",
              " ('असल्याने', 'VM'),\n",
              " ('निंबस', 'NNP'),\n",
              " ('अन्याय', 'NN'),\n",
              " ('करत', 'VM'),\n",
              " ('असल्याचे', 'VAUX'),\n",
              " ('मत', 'NN'),\n",
              " ('त्यांनी', 'PRP'),\n",
              " ('व्यक्त', 'JJ'),\n",
              " ('केले', 'VM'),\n",
              " ('होते', 'VAUX'),\n",
              " (';', 'SYM'),\n",
              " ('तसेच', 'CC'),\n",
              " ('त्याच', 'DEM'),\n",
              " ('वेळी', 'NN'),\n",
              " ('सरकारी', 'JJ'),\n",
              " ('पातळीवर', 'NN'),\n",
              " ('एक', 'QC'),\n",
              " ('विधेयक', 'NN'),\n",
              " ('मांडण्याचाही', None),\n",
              " ('विचार', 'NN'),\n",
              " ('बोलून', 'VM'),\n",
              " ('दाखविला', 'VAUX'),\n",
              " ('होता', 'VAUX'),\n",
              " ('.', 'SYM')]"
            ]
          },
          "metadata": {},
          "execution_count": 12
        }
      ],
      "source": [
        "# Train the unigram model\n",
        "unigram_tag = UnigramTagger(train_data)\n",
        "\n",
        "# Test it on a single sentence\n",
        "unigram_tag.tag(untag(test_data[0]))"
      ]
    },
    {
      "cell_type": "code",
      "execution_count": null,
      "metadata": {
        "colab": {
          "base_uri": "https://localhost:8080/"
        },
        "id": "XEgLVafE-ASY",
        "outputId": "95ba3f66-1ca4-4a6b-ca38-b120a07555ff"
      },
      "outputs": [
        {
          "output_type": "stream",
          "name": "stderr",
          "text": [
            "/usr/local/lib/python3.7/dist-packages/ipykernel_launcher.py:1: DeprecationWarning: \n",
            "  Function evaluate() has been deprecated.  Use accuracy(gold)\n",
            "  instead.\n",
            "  \"\"\"Entry point for launching an IPython kernel.\n"
          ]
        },
        {
          "output_type": "execute_result",
          "data": {
            "text/plain": [
              "0.5846774193548387"
            ]
          },
          "metadata": {},
          "execution_count": 13
        }
      ],
      "source": [
        "unigram_tag.evaluate(test_data)   # Evaluation of model"
      ]
    },
    {
      "cell_type": "markdown",
      "metadata": {
        "id": "VUqNqFxh-ASZ"
      },
      "source": [
        "#### Combining unigram tagger with backoff tagging"
      ]
    },
    {
      "cell_type": "markdown",
      "metadata": {
        "id": "kr-naeVw-ASZ"
      },
      "source": [
        "Many words have been assigned a tag of 'None' because they were not among the most frequent words. It can pass the word on to the next backoff tagger. In these case, we assign 'Defualt Tag' of 'NN'. \n",
        "Here Default Tagger used backoff tagger."
      ]
    },
    {
      "cell_type": "code",
      "execution_count": null,
      "metadata": {
        "colab": {
          "base_uri": "https://localhost:8080/"
        },
        "id": "YJp7q1Ke-ASZ",
        "outputId": "7697c0e5-1e68-40d3-fa42-fd910dd242b1"
      },
      "outputs": [
        {
          "output_type": "execute_result",
          "data": {
            "text/plain": [
              "[('ज्या', 'PRP'),\n",
              " ('देशवासीयांकडे', 'NN'),\n",
              " ('केबल', 'NN'),\n",
              " ('नाही', 'VAUX'),\n",
              " (',', 'SYM'),\n",
              " ('त्यांना', 'PRP'),\n",
              " ('सात', 'QC'),\n",
              " ('मिनिटे', 'NN'),\n",
              " ('उशिरा', 'NN'),\n",
              " ('सामना', 'NN'),\n",
              " ('दाखवावा', 'NN'),\n",
              " ('लागत', 'VAUX'),\n",
              " ('असल्याने', 'VM'),\n",
              " ('निंबस', 'NNP'),\n",
              " ('अन्याय', 'NN'),\n",
              " ('करत', 'VM'),\n",
              " ('असल्याचे', 'VAUX'),\n",
              " ('मत', 'NN'),\n",
              " ('त्यांनी', 'PRP'),\n",
              " ('व्यक्त', 'JJ'),\n",
              " ('केले', 'VM'),\n",
              " ('होते', 'VAUX'),\n",
              " (';', 'SYM'),\n",
              " ('तसेच', 'CC'),\n",
              " ('त्याच', 'DEM'),\n",
              " ('वेळी', 'NN'),\n",
              " ('सरकारी', 'JJ'),\n",
              " ('पातळीवर', 'NN'),\n",
              " ('एक', 'QC'),\n",
              " ('विधेयक', 'NN'),\n",
              " ('मांडण्याचाही', 'NN'),\n",
              " ('विचार', 'NN'),\n",
              " ('बोलून', 'VM'),\n",
              " ('दाखविला', 'VAUX'),\n",
              " ('होता', 'VAUX'),\n",
              " ('.', 'SYM')]"
            ]
          },
          "metadata": {},
          "execution_count": 14
        }
      ],
      "source": [
        "\n",
        "# Train the unigram model\n",
        "unigram_tagger = UnigramTagger(train_data,backoff=nltk.DefaultTagger('NN'))\n",
        "\n",
        "# Test it on a single sentence\n",
        "unigram_tagger.tag(untag(test_data[0]))\n"
      ]
    },
    {
      "cell_type": "code",
      "execution_count": null,
      "metadata": {
        "colab": {
          "base_uri": "https://localhost:8080/"
        },
        "id": "qKk1sO8g-ASa",
        "outputId": "90ac930a-4afd-4b2a-f982-db6c2d849d43"
      },
      "outputs": [
        {
          "output_type": "stream",
          "name": "stderr",
          "text": [
            "/usr/local/lib/python3.7/dist-packages/ipykernel_launcher.py:1: DeprecationWarning: \n",
            "  Function evaluate() has been deprecated.  Use accuracy(gold)\n",
            "  instead.\n",
            "  \"\"\"Entry point for launching an IPython kernel.\n"
          ]
        },
        {
          "output_type": "execute_result",
          "data": {
            "text/plain": [
              "0.7240783410138248"
            ]
          },
          "metadata": {},
          "execution_count": 15
        }
      ],
      "source": [
        "unigram_tagger.evaluate(test_data)  #Evaluation of new model"
      ]
    },
    {
      "cell_type": "markdown",
      "metadata": {
        "id": "O0kdxSuh-ASa"
      },
      "source": [
        "Accuracy of model has been increased from 58% to 72%"
      ]
    },
    {
      "cell_type": "markdown",
      "metadata": {
        "id": "atkiu0bT-ASa"
      },
      "source": [
        "### Step 5: Formatting results into a table "
      ]
    },
    {
      "cell_type": "code",
      "execution_count": null,
      "metadata": {
        "id": "vEYLNjgd-ASa"
      },
      "outputs": [],
      "source": [
        "#Generalized function that would return the POS tags in a structured table format\n",
        "from collections import defaultdict\n",
        "\n",
        "def get_POS(article):\n",
        "\n",
        "    POS = {}\n",
        "\n",
        "    word_tags = unigram_tagger.tag(article)\n",
        "    for word, tag in word_tags:\n",
        "        if tag not in POS:\n",
        "            POS[tag] = [word]\n",
        "        else:\n",
        "            POS[tag].append(word)\n",
        "    \n",
        "    DF = {'Tags':[], 'Words':[], 'Count':[]}\n",
        "\n",
        "\n",
        "    for k in POS:\n",
        "        DF['Tags'].append(k)\n",
        "        DF['Words'].append(\" \".join(POS[k]))\n",
        "        DF['Count'].append(len(POS[k]))\n",
        "    \n",
        "    return pd.DataFrame(DF)"
      ]
    },
    {
      "cell_type": "markdown",
      "metadata": {
        "id": "AHcCRdjp-ASb"
      },
      "source": [
        "\n",
        "\n",
        "Testing on External article\n"
      ]
    },
    {
      "cell_type": "code",
      "execution_count": null,
      "metadata": {
        "id": "qe5c0cH--ASb"
      },
      "outputs": [],
      "source": [
        "list='डॉ. मानसी शिरीष कणेकर  या मराठी लेखिका, कवयित्री व गायिका होत्या. कणेकर संजीवनी मराठे यांची मुलगी होत. त्यांचे पती अनिल हवालदार आणि शिरीष कणेकर हे दोघेही लेखक होत. मानसी कणेकर यांचे इंग्रजी, मराठी, संस्कृत आणि उर्दू या भाषांवर प्रभुत्व होते. त्या गझल लिहीत आणि गातही. मानसी कणेकर यांनी २९व्या वर्षी अनुवादशास्त्रात पीएच.डी. मिळवली होती. लॉर्का या प्रसिद्ध स्पॅनिश नाटककाराची तीन नाटके त्यांनी मराठीत अनुवादित केली होती. त्यांनी ज्ञानेश्वरांच्या अभंगांचे आशयलेखन केले. सिम्बोलिझम या विषयाचा त्यांचा अभ्यास असून त्यांच्या पुस्तकांतून आध्यात्मिक चित्रकार शिवानंद यांची प्रतीकात्मक चित्रे असत.'"
      ]
    },
    {
      "cell_type": "code",
      "execution_count": null,
      "metadata": {
        "colab": {
          "base_uri": "https://localhost:8080/",
          "height": 424
        },
        "id": "XVYdzvG5-ASc",
        "outputId": "13d64e92-4033-4be7-d996-d87e2861d6ec"
      },
      "outputs": [
        {
          "output_type": "execute_result",
          "data": {
            "text/plain": [
              "   Tags                                                                                                                                                                                                                                                                                                                                                                                          Words  Count\n",
              "0  NN    डॉ मानसी शिरीष कणेकर लेखिका कवयित्री गायिका कणेकर संजीवनी मुलगी पती हवालदार शिरीष कणेकर दोघेही लेखक मानसी कणेकर संस्कृत उर्दू भाषांवर प्रभुत्व गझल लिहीत गातही मानसी कणेकर २९व्या वर्षी अनुवादशास्त्रात पीएच.डी मिळवली लॉर्का स्पॅनिश नाटककाराची नाटके मराठीत अनुवादित ज्ञानेश्वरांच्या अभंगांचे आशयलेखन सिम्बोलिझम विषयाचा अभ्यास पुस्तकांतून आध्यात्मिक चित्रकार शिवानंद प्रतीकात्मक चित्रे  50   \n",
              "1  SYM   . , . . . , , . . . . . . .                                                                                                                                                                                                                                                                                                                                                                    14   \n",
              "2  DEM   या हे या त्या या या                                                                                                                                                                                                                                                                                                                                                                            6    \n",
              "3  JJ    मराठी मराठी प्रसिद्ध                                                                                                                                                                                                                                                                                                                                                                           3    \n",
              "4  CC    व अनिल आणि आणि आणि                                                                                                                                                                                                                                                                                                                                                                             5    \n",
              "5  VAUX  होत्या होते होती होती असून असत                                                                                                                                                                                                                                                                                                                                                                 6    \n",
              "6  NNP   मराठे इंग्रजी                                                                                                                                                                                                                                                                                                                                                                                  2    \n",
              "7  PRP   यांची त्यांचे यांचे यांनी त्यांनी त्यांनी त्यांचा त्यांच्या यांची                                                                                                                                                                                                                                                                                                                              9    \n",
              "8  VM    होत होत केली केले                                                                                                                                                                                                                                                                                                                                                                              4    \n",
              "9  QC    तीन                                                                                                                                                                                                                                                                                                                                                                                            1    "
            ],
            "text/html": [
              "\n",
              "  <div id=\"df-67ade59f-f724-4c8e-a39e-c271d33d64a9\">\n",
              "    <div class=\"colab-df-container\">\n",
              "      <div>\n",
              "<style scoped>\n",
              "    .dataframe tbody tr th:only-of-type {\n",
              "        vertical-align: middle;\n",
              "    }\n",
              "\n",
              "    .dataframe tbody tr th {\n",
              "        vertical-align: top;\n",
              "    }\n",
              "\n",
              "    .dataframe thead th {\n",
              "        text-align: right;\n",
              "    }\n",
              "</style>\n",
              "<table border=\"1\" class=\"dataframe\">\n",
              "  <thead>\n",
              "    <tr style=\"text-align: right;\">\n",
              "      <th></th>\n",
              "      <th>Tags</th>\n",
              "      <th>Words</th>\n",
              "      <th>Count</th>\n",
              "    </tr>\n",
              "  </thead>\n",
              "  <tbody>\n",
              "    <tr>\n",
              "      <th>0</th>\n",
              "      <td>NN</td>\n",
              "      <td>डॉ मानसी शिरीष कणेकर लेखिका कवयित्री गायिका कणेकर संजीवनी मुलगी पती हवालदार शिरीष कणेकर दोघेही लेखक मानसी कणेकर संस्कृत उर्दू भाषांवर प्रभुत्व गझल लिहीत गातही मानसी कणेकर २९व्या वर्षी अनुवादशास्त्रात पीएच.डी मिळवली लॉर्का स्पॅनिश नाटककाराची नाटके मराठीत अनुवादित ज्ञानेश्वरांच्या अभंगांचे आशयलेखन सिम्बोलिझम विषयाचा अभ्यास पुस्तकांतून आध्यात्मिक चित्रकार शिवानंद प्रतीकात्मक चित्रे</td>\n",
              "      <td>50</td>\n",
              "    </tr>\n",
              "    <tr>\n",
              "      <th>1</th>\n",
              "      <td>SYM</td>\n",
              "      <td>. , . . . , , . . . . . . .</td>\n",
              "      <td>14</td>\n",
              "    </tr>\n",
              "    <tr>\n",
              "      <th>2</th>\n",
              "      <td>DEM</td>\n",
              "      <td>या हे या त्या या या</td>\n",
              "      <td>6</td>\n",
              "    </tr>\n",
              "    <tr>\n",
              "      <th>3</th>\n",
              "      <td>JJ</td>\n",
              "      <td>मराठी मराठी प्रसिद्ध</td>\n",
              "      <td>3</td>\n",
              "    </tr>\n",
              "    <tr>\n",
              "      <th>4</th>\n",
              "      <td>CC</td>\n",
              "      <td>व अनिल आणि आणि आणि</td>\n",
              "      <td>5</td>\n",
              "    </tr>\n",
              "    <tr>\n",
              "      <th>5</th>\n",
              "      <td>VAUX</td>\n",
              "      <td>होत्या होते होती होती असून असत</td>\n",
              "      <td>6</td>\n",
              "    </tr>\n",
              "    <tr>\n",
              "      <th>6</th>\n",
              "      <td>NNP</td>\n",
              "      <td>मराठे इंग्रजी</td>\n",
              "      <td>2</td>\n",
              "    </tr>\n",
              "    <tr>\n",
              "      <th>7</th>\n",
              "      <td>PRP</td>\n",
              "      <td>यांची त्यांचे यांचे यांनी त्यांनी त्यांनी त्यांचा त्यांच्या यांची</td>\n",
              "      <td>9</td>\n",
              "    </tr>\n",
              "    <tr>\n",
              "      <th>8</th>\n",
              "      <td>VM</td>\n",
              "      <td>होत होत केली केले</td>\n",
              "      <td>4</td>\n",
              "    </tr>\n",
              "    <tr>\n",
              "      <th>9</th>\n",
              "      <td>QC</td>\n",
              "      <td>तीन</td>\n",
              "      <td>1</td>\n",
              "    </tr>\n",
              "  </tbody>\n",
              "</table>\n",
              "</div>\n",
              "      <button class=\"colab-df-convert\" onclick=\"convertToInteractive('df-67ade59f-f724-4c8e-a39e-c271d33d64a9')\"\n",
              "              title=\"Convert this dataframe to an interactive table.\"\n",
              "              style=\"display:none;\">\n",
              "        \n",
              "  <svg xmlns=\"http://www.w3.org/2000/svg\" height=\"24px\"viewBox=\"0 0 24 24\"\n",
              "       width=\"24px\">\n",
              "    <path d=\"M0 0h24v24H0V0z\" fill=\"none\"/>\n",
              "    <path d=\"M18.56 5.44l.94 2.06.94-2.06 2.06-.94-2.06-.94-.94-2.06-.94 2.06-2.06.94zm-11 1L8.5 8.5l.94-2.06 2.06-.94-2.06-.94L8.5 2.5l-.94 2.06-2.06.94zm10 10l.94 2.06.94-2.06 2.06-.94-2.06-.94-.94-2.06-.94 2.06-2.06.94z\"/><path d=\"M17.41 7.96l-1.37-1.37c-.4-.4-.92-.59-1.43-.59-.52 0-1.04.2-1.43.59L10.3 9.45l-7.72 7.72c-.78.78-.78 2.05 0 2.83L4 21.41c.39.39.9.59 1.41.59.51 0 1.02-.2 1.41-.59l7.78-7.78 2.81-2.81c.8-.78.8-2.07 0-2.86zM5.41 20L4 18.59l7.72-7.72 1.47 1.35L5.41 20z\"/>\n",
              "  </svg>\n",
              "      </button>\n",
              "      \n",
              "  <style>\n",
              "    .colab-df-container {\n",
              "      display:flex;\n",
              "      flex-wrap:wrap;\n",
              "      gap: 12px;\n",
              "    }\n",
              "\n",
              "    .colab-df-convert {\n",
              "      background-color: #E8F0FE;\n",
              "      border: none;\n",
              "      border-radius: 50%;\n",
              "      cursor: pointer;\n",
              "      display: none;\n",
              "      fill: #1967D2;\n",
              "      height: 32px;\n",
              "      padding: 0 0 0 0;\n",
              "      width: 32px;\n",
              "    }\n",
              "\n",
              "    .colab-df-convert:hover {\n",
              "      background-color: #E2EBFA;\n",
              "      box-shadow: 0px 1px 2px rgba(60, 64, 67, 0.3), 0px 1px 3px 1px rgba(60, 64, 67, 0.15);\n",
              "      fill: #174EA6;\n",
              "    }\n",
              "\n",
              "    [theme=dark] .colab-df-convert {\n",
              "      background-color: #3B4455;\n",
              "      fill: #D2E3FC;\n",
              "    }\n",
              "\n",
              "    [theme=dark] .colab-df-convert:hover {\n",
              "      background-color: #434B5C;\n",
              "      box-shadow: 0px 1px 3px 1px rgba(0, 0, 0, 0.15);\n",
              "      filter: drop-shadow(0px 1px 2px rgba(0, 0, 0, 0.3));\n",
              "      fill: #FFFFFF;\n",
              "    }\n",
              "  </style>\n",
              "\n",
              "      <script>\n",
              "        const buttonEl =\n",
              "          document.querySelector('#df-67ade59f-f724-4c8e-a39e-c271d33d64a9 button.colab-df-convert');\n",
              "        buttonEl.style.display =\n",
              "          google.colab.kernel.accessAllowed ? 'block' : 'none';\n",
              "\n",
              "        async function convertToInteractive(key) {\n",
              "          const element = document.querySelector('#df-67ade59f-f724-4c8e-a39e-c271d33d64a9');\n",
              "          const dataTable =\n",
              "            await google.colab.kernel.invokeFunction('convertToInteractive',\n",
              "                                                     [key], {});\n",
              "          if (!dataTable) return;\n",
              "\n",
              "          const docLinkHtml = 'Like what you see? Visit the ' +\n",
              "            '<a target=\"_blank\" href=https://colab.research.google.com/notebooks/data_table.ipynb>data table notebook</a>'\n",
              "            + ' to learn more about interactive tables.';\n",
              "          element.innerHTML = '';\n",
              "          dataTable['output_type'] = 'display_data';\n",
              "          await google.colab.output.renderOutput(dataTable, element);\n",
              "          const docLink = document.createElement('div');\n",
              "          docLink.innerHTML = docLinkHtml;\n",
              "          element.appendChild(docLink);\n",
              "        }\n",
              "      </script>\n",
              "    </div>\n",
              "  </div>\n",
              "  "
            ]
          },
          "metadata": {},
          "execution_count": 18
        }
      ],
      "source": [
        "df = get_POS(word_tokenize(list))  #With the help of nltk.tokenize.word_tokenize() method, we are able to extract the tokens from string of characters\n",
        "df"
      ]
    },
    {
      "cell_type": "code",
      "execution_count": null,
      "metadata": {
        "id": "cShAiTpg-ASd"
      },
      "outputs": [],
      "source": [
        "list1=\"मला ताप सर्दी आणि खोकला आहे\""
      ]
    },
    {
      "cell_type": "code",
      "execution_count": null,
      "metadata": {
        "colab": {
          "base_uri": "https://localhost:8080/"
        },
        "id": "r06yeO4YSwXq",
        "outputId": "9170c0f1-a24f-4492-e29e-8d8c825f4475"
      },
      "outputs": [
        {
          "output_type": "stream",
          "name": "stdout",
          "text": [
            "['त्वचेची लालसरपणा', 'गिळण्यास त्रास']\n"
          ]
        }
      ],
      "source": [
        "s= 'त्वचेची लालसरपणा.गिळण्यास त्रास'\n",
        "x = s.split(\".\")\n",
        "print(x)"
      ]
    },
    {
      "cell_type": "code",
      "execution_count": null,
      "metadata": {
        "colab": {
          "base_uri": "https://localhost:8080/",
          "height": 116,
          "referenced_widgets": [
            "295c064e225b45859827abd387a4f3ae",
            "57835d3430f44d1cad305db7e4a9d117",
            "c38fa21ac64b4ef8bfc4998dd76ad318",
            "cf4b44e88a534d05813579250c85fceb",
            "21245fa00fad4d14aaf5bced2fa3aeb3",
            "26577aca9923499bb76f1d90e18ad4e4",
            "c47d6108c35a4efab6535ac3ea28fab3",
            "7d17798205b5411bb01c857b624e3283",
            "a1f6fd8a2356456e8a62dce6bdc5872d",
            "311cc9b95e0445288facc5f06babcc63",
            "e30a44e83622445bb32eb736fdbabaf4",
            "ab1edb31f4114f78aba291f2646a5aa4",
            "15b0a02f88644f8e9e4477d3c45d1b53",
            "1db6e7cb6c634a75a9a95a38eec60bae",
            "ad132f56694a42509fc1de225516d3db",
            "cfa104053af6425abc1b377979402458",
            "47f7971eb56e4b1b92cc737488f4fb6f",
            "053ca138c2a04c72864ecaa7308c4e8a",
            "9827d40299174aba87d8431333983ced",
            "aac829bda4854a03a2a6022c832e329a",
            "ee518e014a704f1aaf26384c6a32f8c6",
            "fb2abe507b9b43fdb8f7571aa462c15b"
          ]
        },
        "id": "QqXjakx_EIsg",
        "outputId": "f16bbed7-e85f-435a-aeca-6bfe97cdeb5d"
      },
      "outputs": [
        {
          "output_type": "display_data",
          "data": {
            "text/plain": [
              "Downloading https://raw.githubusercontent.com/stanfordnlp/stanza-resources/main/resources_1.4.1.json:   0%|   …"
            ],
            "application/vnd.jupyter.widget-view+json": {
              "version_major": 2,
              "version_minor": 0,
              "model_id": "295c064e225b45859827abd387a4f3ae"
            }
          },
          "metadata": {}
        },
        {
          "output_type": "stream",
          "name": "stderr",
          "text": [
            "INFO:stanza:Downloading default packages for language: mr (Marathi) ...\n"
          ]
        },
        {
          "output_type": "display_data",
          "data": {
            "text/plain": [
              "Downloading https://huggingface.co/stanfordnlp/stanza-mr/resolve/v1.4.1/models/default.zip:   0%|          | 0…"
            ],
            "application/vnd.jupyter.widget-view+json": {
              "version_major": 2,
              "version_minor": 0,
              "model_id": "ab1edb31f4114f78aba291f2646a5aa4"
            }
          },
          "metadata": {}
        },
        {
          "output_type": "stream",
          "name": "stderr",
          "text": [
            "INFO:stanza:Finished downloading models and saved to /root/stanza_resources.\n"
          ]
        }
      ],
      "source": [
        "from stopwordsiso import stopwords\n",
        "import stanza\n",
        "stanza.download('mr')"
      ]
    },
    {
      "cell_type": "code",
      "execution_count": null,
      "metadata": {
        "id": "xdegv1loxX5R"
      },
      "outputs": [],
      "source": [
        "# !pip install inltk\n",
        "# !pip install torch==1.3.1 -f https://download.pytorch.org/whl/torch_stable.html.\n",
        "\n",
        "# import torch\n",
        "# torch.__version__"
      ]
    },
    {
      "cell_type": "code",
      "execution_count": null,
      "metadata": {
        "id": "GK3s2gdtvNiN"
      },
      "outputs": [],
      "source": [
        "# from inltk.inltk import setup\n",
        "# setup('mr')"
      ]
    },
    {
      "cell_type": "code",
      "execution_count": null,
      "metadata": {
        "id": "7I6-kIM-vzYL"
      },
      "outputs": [],
      "source": [
        "# from inltk.inltk import get_sentence_similarity\n",
        "\n",
        "# # similarity of encodings is calculated by using cmp function whose default is cosine similarity\n",
        "# get_sentence_similarity('मुझे भोजन पसंद है।', 'मैं ऐसे भोजन की सराहना करता हूं जिसका स्वाद अच्छा हो।', 'mr')\n"
      ]
    },
    {
      "cell_type": "code",
      "execution_count": null,
      "metadata": {
        "colab": {
          "base_uri": "https://localhost:8080/",
          "height": 659,
          "referenced_widgets": [
            "595562552a614f6f9d1f7b0f6757121b",
            "c05ec9d3d46e49eea1fac87edd3dc293",
            "238e038e59764f0faeb6fe42c63d78da",
            "de5d86957cfd44a394c503386122b21b",
            "7d8fe804ae494b2eaadc4f361f2287c4",
            "b8948a1ea2024e07b88ce85823350e8e",
            "8b0eedf432e84775b3296fef7dbd27c4",
            "d6363114dc334fc58509524861c42382",
            "e3712362df354b3486929e95038f6a49",
            "84cffed7e3f24c4391664cd1b131a650",
            "57fe42b259014219853707e224fb0496"
          ]
        },
        "id": "ANjypXA6uKdp",
        "outputId": "fa21fb54-fcf7-45fc-8304-2ae94c9351ba"
      },
      "outputs": [
        {
          "output_type": "stream",
          "name": "stderr",
          "text": [
            "INFO:stanza:Checking for updates to resources.json in case models have been updated.  Note: this behavior can be turned off with download_method=None or download_method=DownloadMethod.REUSE_RESOURCES\n"
          ]
        },
        {
          "output_type": "display_data",
          "data": {
            "text/plain": [
              "Downloading https://raw.githubusercontent.com/stanfordnlp/stanza-resources/main/resources_1.4.1.json:   0%|   …"
            ],
            "application/vnd.jupyter.widget-view+json": {
              "version_major": 2,
              "version_minor": 0,
              "model_id": "595562552a614f6f9d1f7b0f6757121b"
            }
          },
          "metadata": {}
        },
        {
          "output_type": "stream",
          "name": "stderr",
          "text": [
            "INFO:stanza:Loading these models for language: mr (Marathi):\n",
            "=======================\n",
            "| Processor | Package |\n",
            "-----------------------\n",
            "| tokenize  | ufal    |\n",
            "| mwt       | ufal    |\n",
            "| pos       | ufal    |\n",
            "| lemma     | ufal    |\n",
            "| depparse  | ufal    |\n",
            "| sentiment | l3cube  |\n",
            "| ner       | l3cube  |\n",
            "=======================\n",
            "\n",
            "INFO:stanza:Use device: cpu\n",
            "INFO:stanza:Loading: tokenize\n",
            "INFO:stanza:Loading: mwt\n",
            "INFO:stanza:Loading: pos\n",
            "INFO:stanza:Loading: lemma\n",
            "INFO:stanza:Loading: depparse\n",
            "INFO:stanza:Loading: sentiment\n",
            "INFO:stanza:Loading: ner\n",
            "INFO:stanza:Done loading processors!\n"
          ]
        },
        {
          "output_type": "stream",
          "name": "stdout",
          "text": [
            "['मी', 'गिळणे', 'माझ्याकडे']\n",
            "printing l\n",
            "['गिळणे माझ्याकडे']\n",
            "printing l3\n",
            "['गिळणे', 'माझ्याकडे']\n",
            "Score_List: [0, 0, 0, 0, 0, 0, 0, 0, 0, 0, 0, 0, 0]\n",
            "Max value in score list 0\n",
            "['Cancer', 'Diarrhea', 'Covid', 'Malaria', 'Stroke', 'Diabetes', 'Asthama', 'Depression', 'Fever', 'Tuberculosis', 'AIDS', 'Chickenpox', 'Piles']\n",
            "printing l3\n",
            "['गिळणे', 'माझ्याकडे']\n",
            "['Cancer', 'Diarrhea', 'Covid', 'Malaria', 'Stroke', 'Diabetes', 'Asthama', 'Depression', 'Fever', 'Tuberculosis', 'AIDS', 'Chickenpox', 'Piles']\n"
          ]
        }
      ],
      "source": [
        "def predict(marathi_text):\n",
        "  #Removing Punctuations\n",
        "  punctuations = '''!()-[]{};:'\"\\, <>./?@#$%^&*_~'''\n",
        "  punctuation_removed_text = marathi_text\n",
        "  for ele in marathi_text:\n",
        "      if ele in punctuations:\n",
        "          punctuation_removed_text = punctuation_removed_text.replace(ele, \" \")\n",
        "\n",
        "  #print(\"Punctuation Removed Text: \",punctuation_removed_text)\n",
        "\n",
        "  #Tokenization\n",
        "  tokenized_text = punctuation_removed_text.split(\" \")\n",
        "  #print(len(tokenized_text))\n",
        "\n",
        "  #Removing Stopwords\n",
        "  stopwords_collection = stopwords('mr')\n",
        "  #print(stopwords('mr'))\n",
        "  #print(len(stopwords_collection))\n",
        "  stopwords_removed_text = []\n",
        "  for i in tokenized_text:\n",
        "      if i not in stopwords_collection:\n",
        "          stopwords_removed_text.append(i)\n",
        "\n",
        "  #Remove Spaces\n",
        "  final_text = []\n",
        "  for i in stopwords_removed_text:\n",
        "      if i != '':\n",
        "          final_text.append(i)\n",
        "  #print(final_text)\n",
        "  #Lemmatization\n",
        "  nlp = stanza.Pipeline('mr') # This sets up a default neural pipeline in Marathi\n",
        "  #nlp = stanza.Pipeline(lang='mr', processors='tokenize,mwt,pos,lemma')\n",
        "  doc = nlp(marathi_text)\n",
        "  #print(*[f'word: {word.text+\" \"}\\tlemma: {word.lemma}' for sent in doc.sentences for word in sent.words], sep='\\n')\n",
        "  MainWord = []\n",
        "  RootWord = []\n",
        "  # Appending to MainWord\n",
        "  for sent in doc.sentences:\n",
        "      for word in sent.words:\n",
        "          MainWord.append(word.text)\n",
        "\n",
        "  # Appending to RootWord\n",
        "  for sent in doc.sentences:\n",
        "      for word in sent.words:\n",
        "          RootWord.append(word.lemma)\n",
        "\n",
        "  #Final Step\n",
        "  Final_List = final_text\n",
        "  k = 0\n",
        "  for i in Final_List:\n",
        "      m = 0\n",
        "      if i in MainWord:\n",
        "          for j in MainWord:\n",
        "              if j == i:\n",
        "                  Final_List[k] = RootWord[m]\n",
        "                  break\n",
        "              m = m + 1\n",
        "      k = k + 1\n",
        "\n",
        "  #Remove Blank Space\n",
        "  for a in Final_List:\n",
        "      if a == '':\n",
        "          Final_List.remove(a)\n",
        "\n",
        "  print(Final_List)\n",
        "\n",
        "  df = get_POS(Final_List)\n",
        "  # df\n",
        "  # l2 = word_tokenize(list1)\n",
        "  # #['मला', 'ताप', 'सर्दी', 'आणि', 'खोकला', 'आहे']\n",
        "  # # print(l2)\n",
        "\n",
        "  l=[]\n",
        "  for i in range(len(df.Tags)):\n",
        "      if 'NN' == df.Tags[i]:\n",
        "          l.append(df.iloc[1][i])\n",
        "  print('printing l')\n",
        "  print(l)\n",
        "  l3 = word_tokenize(l[0])\n",
        "  print('printing l3')\n",
        "  print(l3)\n",
        "  data = {\n",
        "    \"Cancer\": ['त्वचेची', 'लालसरपणा', 'गिळणे', 'त्रास', 'अपचनाचा','त्रास','रक्तस्त्रा','माझ्याकडे','ढेकूळ','थकव','जाणे','वेदना'],\n",
        "    \"Diarrhea\" : ['स्टूलमध्ये','रक्त','स्टूलमध्ये','श्लेष्मा','पोटदुख','ताप','मळमळ'],\n",
        "    \"Covid\" : ['चव','गमावणे','खोक','ताप','थकव','जाणे','श्वासोच्छवासाचा','त्रास'],\n",
        "    \"Malaria\" : ['मळमळ','ताप','पोटदुख','डोक','खोक','उलटा'],\n",
        "    \"Stroke\" : ['सुन्नपणा','पहाणे','समसा','चालणे','त्रास','बोलणे','अडचण'],\n",
        "    \"Diabetes\" : ['लघवीची','समस्या','तहान','थकव','अंधुक','दृष्टी ','पाय','सुन्न','मुंग्य'],\n",
        "    \"Asthama\" : ['धाप','छाती','घट्टपणणा','छाती','वेदना','झोपणे','त्रास'],\n",
        "    \"Depression\" : ['अश्रू','दुःख','हताशपणा','न्यूनगंड'],\n",
        "    \"Fever\": ['ताप','सर्दी','खोक'],\n",
        "    \"Tuberculosis\" : ['थकव','वजन','ताप','खोक'],\n",
        "    \"AIDS\" : ['ताप','डोकेदुखी','स्नायू','दुखण','घस','खवखवणे','पुरळ'],\n",
        "    \"Malaria\" : ['ताप','डोकेदुखी','मळमळ','उलटी','पोटदुखी'],\n",
        "    \"Chickenpox\" : ['ताप','थकव','डोकेदुखी','त्वचेवर','पुरळ'],\n",
        "    \"Piles\" : ['रक्तस्त्राव','गुदद्वाराभोवती','वेदना','गुद्द्वार','खाज'],\n",
        "  }\n",
        "\n",
        "  score_l = []\n",
        "\n",
        "  for i in data:\n",
        "    score = 0\n",
        "    k = 0\n",
        "    for j in data[i]:\n",
        "      while k < len(l3):\n",
        "        # if get_sentence_similarity(l3[k], j, 'mr') == 1:\n",
        "        if l3[k] == j:\n",
        "          print(l3[k])\n",
        "          score = score + 1\n",
        "        k = k + 1\n",
        "        # print(j)\n",
        "    score_l.append(score)\n",
        "\n",
        "  print('Score_List:',score_l)\n",
        "  max_value = max(score_l) \n",
        "  print('Max value in score list', max_value)\n",
        "  # max_index = score_l.index(max_value)\n",
        "  max_indices=[]\n",
        "  p = []\n",
        "  j=0\n",
        "  for i in score_l:\n",
        "    if i==max_value:\n",
        "        max_indices.append(j)\n",
        "    j+=1\n",
        "  for mi in max_indices:\n",
        "    p.append([key for key in data.keys()][mi])\n",
        "  # print(data.index[max_index])\n",
        "  print(p)\n",
        "  print('printing l3')\n",
        "  print(l3)\n",
        "  return p\n",
        "a = predict('मला गिळणे माझ्याकडे आहे')\n",
        "print(a)\n"
      ]
    },
    {
      "cell_type": "code",
      "execution_count": null,
      "metadata": {
        "colab": {
          "base_uri": "https://localhost:8080/",
          "height": 591
        },
        "id": "IFbs7ASLY6Q0",
        "outputId": "42906363-7d33-4f0a-85b7-46dedf30fb58"
      },
      "outputs": [
        {
          "output_type": "stream",
          "name": "stdout",
          "text": [
            "Colab notebook detected. To show errors in colab notebook, set `debug=True` in `launch()`\n",
            "Running on public URL: https://957a296c7503b4a9.gradio.app\n",
            "\n",
            "This share link expires in 72 hours. For free permanent hosting and GPU upgrades (NEW!), check out Spaces: https://huggingface.co/spaces\n"
          ]
        },
        {
          "output_type": "display_data",
          "data": {
            "text/plain": [
              "<IPython.core.display.HTML object>"
            ],
            "text/html": [
              "<div><iframe src=\"https://957a296c7503b4a9.gradio.app\" width=\"900\" height=\"500\" allow=\"autoplay; camera; microphone; clipboard-read; clipboard-write;\" frameborder=\"0\" allowfullscreen></iframe></div>"
            ]
          },
          "metadata": {}
        }
      ],
      "source": [
        "import random\n",
        "import gradio as gr\n",
        "\n",
        "def chat(message, history):\n",
        "    history = history or []\n",
        "    print(message)\n",
        "    message = message.lower()\n",
        "    if message.startswith(\"नमस्कार\"):\n",
        "        response = 'नमस्कार साहेब'\n",
        "    elif message.startswith(\"कृपया मला मदत करा\"):\n",
        "        response = 'मला तुमच्या आजाराची लक्षणे सांगा'\n",
        "    else:\n",
        "        response = 'संभाव्य रोग: {}'.format(predict(message))\n",
        "    history.append((message, response))\n",
        "    return history, history\n",
        "\n",
        "chatbot = gr.Chatbot().style(color_map=(\"green\", \"pink\"))\n",
        "demo = gr.Interface(\n",
        "    chat,\n",
        "    [\"text\", \"state\"],\n",
        "    [chatbot, \"state\"],\n",
        "    allow_flagging=\"never\",\n",
        ")\n",
        "if __name__ == \"__main__\":\n",
        "    demo.launch()"
      ]
    }
  ],
  "metadata": {
    "colab": {
      "collapsed_sections": [],
      "provenance": []
    },
    "kernelspec": {
      "display_name": "Python 3",
      "language": "python",
      "name": "python3"
    },
    "language_info": {
      "codemirror_mode": {
        "name": "ipython",
        "version": 3
      },
      "file_extension": ".py",
      "mimetype": "text/x-python",
      "name": "python",
      "nbconvert_exporter": "python",
      "pygments_lexer": "ipython3",
      "version": "3.6.9"
    },
    "widgets": {
      "application/vnd.jupyter.widget-state+json": {
        "295c064e225b45859827abd387a4f3ae": {
          "model_module": "@jupyter-widgets/controls",
          "model_name": "HBoxModel",
          "model_module_version": "1.5.0",
          "state": {
            "_dom_classes": [],
            "_model_module": "@jupyter-widgets/controls",
            "_model_module_version": "1.5.0",
            "_model_name": "HBoxModel",
            "_view_count": null,
            "_view_module": "@jupyter-widgets/controls",
            "_view_module_version": "1.5.0",
            "_view_name": "HBoxView",
            "box_style": "",
            "children": [
              "IPY_MODEL_57835d3430f44d1cad305db7e4a9d117",
              "IPY_MODEL_c38fa21ac64b4ef8bfc4998dd76ad318",
              "IPY_MODEL_cf4b44e88a534d05813579250c85fceb"
            ],
            "layout": "IPY_MODEL_21245fa00fad4d14aaf5bced2fa3aeb3"
          }
        },
        "57835d3430f44d1cad305db7e4a9d117": {
          "model_module": "@jupyter-widgets/controls",
          "model_name": "HTMLModel",
          "model_module_version": "1.5.0",
          "state": {
            "_dom_classes": [],
            "_model_module": "@jupyter-widgets/controls",
            "_model_module_version": "1.5.0",
            "_model_name": "HTMLModel",
            "_view_count": null,
            "_view_module": "@jupyter-widgets/controls",
            "_view_module_version": "1.5.0",
            "_view_name": "HTMLView",
            "description": "",
            "description_tooltip": null,
            "layout": "IPY_MODEL_26577aca9923499bb76f1d90e18ad4e4",
            "placeholder": "​",
            "style": "IPY_MODEL_c47d6108c35a4efab6535ac3ea28fab3",
            "value": "Downloading https://raw.githubusercontent.com/stanfordnlp/stanza-resources/main/resources_1.4.1.json: "
          }
        },
        "c38fa21ac64b4ef8bfc4998dd76ad318": {
          "model_module": "@jupyter-widgets/controls",
          "model_name": "FloatProgressModel",
          "model_module_version": "1.5.0",
          "state": {
            "_dom_classes": [],
            "_model_module": "@jupyter-widgets/controls",
            "_model_module_version": "1.5.0",
            "_model_name": "FloatProgressModel",
            "_view_count": null,
            "_view_module": "@jupyter-widgets/controls",
            "_view_module_version": "1.5.0",
            "_view_name": "ProgressView",
            "bar_style": "success",
            "description": "",
            "description_tooltip": null,
            "layout": "IPY_MODEL_7d17798205b5411bb01c857b624e3283",
            "max": 28918,
            "min": 0,
            "orientation": "horizontal",
            "style": "IPY_MODEL_a1f6fd8a2356456e8a62dce6bdc5872d",
            "value": 28918
          }
        },
        "cf4b44e88a534d05813579250c85fceb": {
          "model_module": "@jupyter-widgets/controls",
          "model_name": "HTMLModel",
          "model_module_version": "1.5.0",
          "state": {
            "_dom_classes": [],
            "_model_module": "@jupyter-widgets/controls",
            "_model_module_version": "1.5.0",
            "_model_name": "HTMLModel",
            "_view_count": null,
            "_view_module": "@jupyter-widgets/controls",
            "_view_module_version": "1.5.0",
            "_view_name": "HTMLView",
            "description": "",
            "description_tooltip": null,
            "layout": "IPY_MODEL_311cc9b95e0445288facc5f06babcc63",
            "placeholder": "​",
            "style": "IPY_MODEL_e30a44e83622445bb32eb736fdbabaf4",
            "value": " 193k/? [00:00&lt;00:00, 3.98MB/s]"
          }
        },
        "21245fa00fad4d14aaf5bced2fa3aeb3": {
          "model_module": "@jupyter-widgets/base",
          "model_name": "LayoutModel",
          "model_module_version": "1.2.0",
          "state": {
            "_model_module": "@jupyter-widgets/base",
            "_model_module_version": "1.2.0",
            "_model_name": "LayoutModel",
            "_view_count": null,
            "_view_module": "@jupyter-widgets/base",
            "_view_module_version": "1.2.0",
            "_view_name": "LayoutView",
            "align_content": null,
            "align_items": null,
            "align_self": null,
            "border": null,
            "bottom": null,
            "display": null,
            "flex": null,
            "flex_flow": null,
            "grid_area": null,
            "grid_auto_columns": null,
            "grid_auto_flow": null,
            "grid_auto_rows": null,
            "grid_column": null,
            "grid_gap": null,
            "grid_row": null,
            "grid_template_areas": null,
            "grid_template_columns": null,
            "grid_template_rows": null,
            "height": null,
            "justify_content": null,
            "justify_items": null,
            "left": null,
            "margin": null,
            "max_height": null,
            "max_width": null,
            "min_height": null,
            "min_width": null,
            "object_fit": null,
            "object_position": null,
            "order": null,
            "overflow": null,
            "overflow_x": null,
            "overflow_y": null,
            "padding": null,
            "right": null,
            "top": null,
            "visibility": null,
            "width": null
          }
        },
        "26577aca9923499bb76f1d90e18ad4e4": {
          "model_module": "@jupyter-widgets/base",
          "model_name": "LayoutModel",
          "model_module_version": "1.2.0",
          "state": {
            "_model_module": "@jupyter-widgets/base",
            "_model_module_version": "1.2.0",
            "_model_name": "LayoutModel",
            "_view_count": null,
            "_view_module": "@jupyter-widgets/base",
            "_view_module_version": "1.2.0",
            "_view_name": "LayoutView",
            "align_content": null,
            "align_items": null,
            "align_self": null,
            "border": null,
            "bottom": null,
            "display": null,
            "flex": null,
            "flex_flow": null,
            "grid_area": null,
            "grid_auto_columns": null,
            "grid_auto_flow": null,
            "grid_auto_rows": null,
            "grid_column": null,
            "grid_gap": null,
            "grid_row": null,
            "grid_template_areas": null,
            "grid_template_columns": null,
            "grid_template_rows": null,
            "height": null,
            "justify_content": null,
            "justify_items": null,
            "left": null,
            "margin": null,
            "max_height": null,
            "max_width": null,
            "min_height": null,
            "min_width": null,
            "object_fit": null,
            "object_position": null,
            "order": null,
            "overflow": null,
            "overflow_x": null,
            "overflow_y": null,
            "padding": null,
            "right": null,
            "top": null,
            "visibility": null,
            "width": null
          }
        },
        "c47d6108c35a4efab6535ac3ea28fab3": {
          "model_module": "@jupyter-widgets/controls",
          "model_name": "DescriptionStyleModel",
          "model_module_version": "1.5.0",
          "state": {
            "_model_module": "@jupyter-widgets/controls",
            "_model_module_version": "1.5.0",
            "_model_name": "DescriptionStyleModel",
            "_view_count": null,
            "_view_module": "@jupyter-widgets/base",
            "_view_module_version": "1.2.0",
            "_view_name": "StyleView",
            "description_width": ""
          }
        },
        "7d17798205b5411bb01c857b624e3283": {
          "model_module": "@jupyter-widgets/base",
          "model_name": "LayoutModel",
          "model_module_version": "1.2.0",
          "state": {
            "_model_module": "@jupyter-widgets/base",
            "_model_module_version": "1.2.0",
            "_model_name": "LayoutModel",
            "_view_count": null,
            "_view_module": "@jupyter-widgets/base",
            "_view_module_version": "1.2.0",
            "_view_name": "LayoutView",
            "align_content": null,
            "align_items": null,
            "align_self": null,
            "border": null,
            "bottom": null,
            "display": null,
            "flex": null,
            "flex_flow": null,
            "grid_area": null,
            "grid_auto_columns": null,
            "grid_auto_flow": null,
            "grid_auto_rows": null,
            "grid_column": null,
            "grid_gap": null,
            "grid_row": null,
            "grid_template_areas": null,
            "grid_template_columns": null,
            "grid_template_rows": null,
            "height": null,
            "justify_content": null,
            "justify_items": null,
            "left": null,
            "margin": null,
            "max_height": null,
            "max_width": null,
            "min_height": null,
            "min_width": null,
            "object_fit": null,
            "object_position": null,
            "order": null,
            "overflow": null,
            "overflow_x": null,
            "overflow_y": null,
            "padding": null,
            "right": null,
            "top": null,
            "visibility": null,
            "width": null
          }
        },
        "a1f6fd8a2356456e8a62dce6bdc5872d": {
          "model_module": "@jupyter-widgets/controls",
          "model_name": "ProgressStyleModel",
          "model_module_version": "1.5.0",
          "state": {
            "_model_module": "@jupyter-widgets/controls",
            "_model_module_version": "1.5.0",
            "_model_name": "ProgressStyleModel",
            "_view_count": null,
            "_view_module": "@jupyter-widgets/base",
            "_view_module_version": "1.2.0",
            "_view_name": "StyleView",
            "bar_color": null,
            "description_width": ""
          }
        },
        "311cc9b95e0445288facc5f06babcc63": {
          "model_module": "@jupyter-widgets/base",
          "model_name": "LayoutModel",
          "model_module_version": "1.2.0",
          "state": {
            "_model_module": "@jupyter-widgets/base",
            "_model_module_version": "1.2.0",
            "_model_name": "LayoutModel",
            "_view_count": null,
            "_view_module": "@jupyter-widgets/base",
            "_view_module_version": "1.2.0",
            "_view_name": "LayoutView",
            "align_content": null,
            "align_items": null,
            "align_self": null,
            "border": null,
            "bottom": null,
            "display": null,
            "flex": null,
            "flex_flow": null,
            "grid_area": null,
            "grid_auto_columns": null,
            "grid_auto_flow": null,
            "grid_auto_rows": null,
            "grid_column": null,
            "grid_gap": null,
            "grid_row": null,
            "grid_template_areas": null,
            "grid_template_columns": null,
            "grid_template_rows": null,
            "height": null,
            "justify_content": null,
            "justify_items": null,
            "left": null,
            "margin": null,
            "max_height": null,
            "max_width": null,
            "min_height": null,
            "min_width": null,
            "object_fit": null,
            "object_position": null,
            "order": null,
            "overflow": null,
            "overflow_x": null,
            "overflow_y": null,
            "padding": null,
            "right": null,
            "top": null,
            "visibility": null,
            "width": null
          }
        },
        "e30a44e83622445bb32eb736fdbabaf4": {
          "model_module": "@jupyter-widgets/controls",
          "model_name": "DescriptionStyleModel",
          "model_module_version": "1.5.0",
          "state": {
            "_model_module": "@jupyter-widgets/controls",
            "_model_module_version": "1.5.0",
            "_model_name": "DescriptionStyleModel",
            "_view_count": null,
            "_view_module": "@jupyter-widgets/base",
            "_view_module_version": "1.2.0",
            "_view_name": "StyleView",
            "description_width": ""
          }
        },
        "ab1edb31f4114f78aba291f2646a5aa4": {
          "model_module": "@jupyter-widgets/controls",
          "model_name": "HBoxModel",
          "model_module_version": "1.5.0",
          "state": {
            "_dom_classes": [],
            "_model_module": "@jupyter-widgets/controls",
            "_model_module_version": "1.5.0",
            "_model_name": "HBoxModel",
            "_view_count": null,
            "_view_module": "@jupyter-widgets/controls",
            "_view_module_version": "1.5.0",
            "_view_name": "HBoxView",
            "box_style": "",
            "children": [
              "IPY_MODEL_15b0a02f88644f8e9e4477d3c45d1b53",
              "IPY_MODEL_1db6e7cb6c634a75a9a95a38eec60bae",
              "IPY_MODEL_ad132f56694a42509fc1de225516d3db"
            ],
            "layout": "IPY_MODEL_cfa104053af6425abc1b377979402458"
          }
        },
        "15b0a02f88644f8e9e4477d3c45d1b53": {
          "model_module": "@jupyter-widgets/controls",
          "model_name": "HTMLModel",
          "model_module_version": "1.5.0",
          "state": {
            "_dom_classes": [],
            "_model_module": "@jupyter-widgets/controls",
            "_model_module_version": "1.5.0",
            "_model_name": "HTMLModel",
            "_view_count": null,
            "_view_module": "@jupyter-widgets/controls",
            "_view_module_version": "1.5.0",
            "_view_name": "HTMLView",
            "description": "",
            "description_tooltip": null,
            "layout": "IPY_MODEL_47f7971eb56e4b1b92cc737488f4fb6f",
            "placeholder": "​",
            "style": "IPY_MODEL_053ca138c2a04c72864ecaa7308c4e8a",
            "value": "Downloading https://huggingface.co/stanfordnlp/stanza-mr/resolve/v1.4.1/models/default.zip: 100%"
          }
        },
        "1db6e7cb6c634a75a9a95a38eec60bae": {
          "model_module": "@jupyter-widgets/controls",
          "model_name": "FloatProgressModel",
          "model_module_version": "1.5.0",
          "state": {
            "_dom_classes": [],
            "_model_module": "@jupyter-widgets/controls",
            "_model_module_version": "1.5.0",
            "_model_name": "FloatProgressModel",
            "_view_count": null,
            "_view_module": "@jupyter-widgets/controls",
            "_view_module_version": "1.5.0",
            "_view_name": "ProgressView",
            "bar_style": "success",
            "description": "",
            "description_tooltip": null,
            "layout": "IPY_MODEL_9827d40299174aba87d8431333983ced",
            "max": 482196263,
            "min": 0,
            "orientation": "horizontal",
            "style": "IPY_MODEL_aac829bda4854a03a2a6022c832e329a",
            "value": 482196263
          }
        },
        "ad132f56694a42509fc1de225516d3db": {
          "model_module": "@jupyter-widgets/controls",
          "model_name": "HTMLModel",
          "model_module_version": "1.5.0",
          "state": {
            "_dom_classes": [],
            "_model_module": "@jupyter-widgets/controls",
            "_model_module_version": "1.5.0",
            "_model_name": "HTMLModel",
            "_view_count": null,
            "_view_module": "@jupyter-widgets/controls",
            "_view_module_version": "1.5.0",
            "_view_name": "HTMLView",
            "description": "",
            "description_tooltip": null,
            "layout": "IPY_MODEL_ee518e014a704f1aaf26384c6a32f8c6",
            "placeholder": "​",
            "style": "IPY_MODEL_fb2abe507b9b43fdb8f7571aa462c15b",
            "value": " 482M/482M [00:11&lt;00:00, 58.8MB/s]"
          }
        },
        "cfa104053af6425abc1b377979402458": {
          "model_module": "@jupyter-widgets/base",
          "model_name": "LayoutModel",
          "model_module_version": "1.2.0",
          "state": {
            "_model_module": "@jupyter-widgets/base",
            "_model_module_version": "1.2.0",
            "_model_name": "LayoutModel",
            "_view_count": null,
            "_view_module": "@jupyter-widgets/base",
            "_view_module_version": "1.2.0",
            "_view_name": "LayoutView",
            "align_content": null,
            "align_items": null,
            "align_self": null,
            "border": null,
            "bottom": null,
            "display": null,
            "flex": null,
            "flex_flow": null,
            "grid_area": null,
            "grid_auto_columns": null,
            "grid_auto_flow": null,
            "grid_auto_rows": null,
            "grid_column": null,
            "grid_gap": null,
            "grid_row": null,
            "grid_template_areas": null,
            "grid_template_columns": null,
            "grid_template_rows": null,
            "height": null,
            "justify_content": null,
            "justify_items": null,
            "left": null,
            "margin": null,
            "max_height": null,
            "max_width": null,
            "min_height": null,
            "min_width": null,
            "object_fit": null,
            "object_position": null,
            "order": null,
            "overflow": null,
            "overflow_x": null,
            "overflow_y": null,
            "padding": null,
            "right": null,
            "top": null,
            "visibility": null,
            "width": null
          }
        },
        "47f7971eb56e4b1b92cc737488f4fb6f": {
          "model_module": "@jupyter-widgets/base",
          "model_name": "LayoutModel",
          "model_module_version": "1.2.0",
          "state": {
            "_model_module": "@jupyter-widgets/base",
            "_model_module_version": "1.2.0",
            "_model_name": "LayoutModel",
            "_view_count": null,
            "_view_module": "@jupyter-widgets/base",
            "_view_module_version": "1.2.0",
            "_view_name": "LayoutView",
            "align_content": null,
            "align_items": null,
            "align_self": null,
            "border": null,
            "bottom": null,
            "display": null,
            "flex": null,
            "flex_flow": null,
            "grid_area": null,
            "grid_auto_columns": null,
            "grid_auto_flow": null,
            "grid_auto_rows": null,
            "grid_column": null,
            "grid_gap": null,
            "grid_row": null,
            "grid_template_areas": null,
            "grid_template_columns": null,
            "grid_template_rows": null,
            "height": null,
            "justify_content": null,
            "justify_items": null,
            "left": null,
            "margin": null,
            "max_height": null,
            "max_width": null,
            "min_height": null,
            "min_width": null,
            "object_fit": null,
            "object_position": null,
            "order": null,
            "overflow": null,
            "overflow_x": null,
            "overflow_y": null,
            "padding": null,
            "right": null,
            "top": null,
            "visibility": null,
            "width": null
          }
        },
        "053ca138c2a04c72864ecaa7308c4e8a": {
          "model_module": "@jupyter-widgets/controls",
          "model_name": "DescriptionStyleModel",
          "model_module_version": "1.5.0",
          "state": {
            "_model_module": "@jupyter-widgets/controls",
            "_model_module_version": "1.5.0",
            "_model_name": "DescriptionStyleModel",
            "_view_count": null,
            "_view_module": "@jupyter-widgets/base",
            "_view_module_version": "1.2.0",
            "_view_name": "StyleView",
            "description_width": ""
          }
        },
        "9827d40299174aba87d8431333983ced": {
          "model_module": "@jupyter-widgets/base",
          "model_name": "LayoutModel",
          "model_module_version": "1.2.0",
          "state": {
            "_model_module": "@jupyter-widgets/base",
            "_model_module_version": "1.2.0",
            "_model_name": "LayoutModel",
            "_view_count": null,
            "_view_module": "@jupyter-widgets/base",
            "_view_module_version": "1.2.0",
            "_view_name": "LayoutView",
            "align_content": null,
            "align_items": null,
            "align_self": null,
            "border": null,
            "bottom": null,
            "display": null,
            "flex": null,
            "flex_flow": null,
            "grid_area": null,
            "grid_auto_columns": null,
            "grid_auto_flow": null,
            "grid_auto_rows": null,
            "grid_column": null,
            "grid_gap": null,
            "grid_row": null,
            "grid_template_areas": null,
            "grid_template_columns": null,
            "grid_template_rows": null,
            "height": null,
            "justify_content": null,
            "justify_items": null,
            "left": null,
            "margin": null,
            "max_height": null,
            "max_width": null,
            "min_height": null,
            "min_width": null,
            "object_fit": null,
            "object_position": null,
            "order": null,
            "overflow": null,
            "overflow_x": null,
            "overflow_y": null,
            "padding": null,
            "right": null,
            "top": null,
            "visibility": null,
            "width": null
          }
        },
        "aac829bda4854a03a2a6022c832e329a": {
          "model_module": "@jupyter-widgets/controls",
          "model_name": "ProgressStyleModel",
          "model_module_version": "1.5.0",
          "state": {
            "_model_module": "@jupyter-widgets/controls",
            "_model_module_version": "1.5.0",
            "_model_name": "ProgressStyleModel",
            "_view_count": null,
            "_view_module": "@jupyter-widgets/base",
            "_view_module_version": "1.2.0",
            "_view_name": "StyleView",
            "bar_color": null,
            "description_width": ""
          }
        },
        "ee518e014a704f1aaf26384c6a32f8c6": {
          "model_module": "@jupyter-widgets/base",
          "model_name": "LayoutModel",
          "model_module_version": "1.2.0",
          "state": {
            "_model_module": "@jupyter-widgets/base",
            "_model_module_version": "1.2.0",
            "_model_name": "LayoutModel",
            "_view_count": null,
            "_view_module": "@jupyter-widgets/base",
            "_view_module_version": "1.2.0",
            "_view_name": "LayoutView",
            "align_content": null,
            "align_items": null,
            "align_self": null,
            "border": null,
            "bottom": null,
            "display": null,
            "flex": null,
            "flex_flow": null,
            "grid_area": null,
            "grid_auto_columns": null,
            "grid_auto_flow": null,
            "grid_auto_rows": null,
            "grid_column": null,
            "grid_gap": null,
            "grid_row": null,
            "grid_template_areas": null,
            "grid_template_columns": null,
            "grid_template_rows": null,
            "height": null,
            "justify_content": null,
            "justify_items": null,
            "left": null,
            "margin": null,
            "max_height": null,
            "max_width": null,
            "min_height": null,
            "min_width": null,
            "object_fit": null,
            "object_position": null,
            "order": null,
            "overflow": null,
            "overflow_x": null,
            "overflow_y": null,
            "padding": null,
            "right": null,
            "top": null,
            "visibility": null,
            "width": null
          }
        },
        "fb2abe507b9b43fdb8f7571aa462c15b": {
          "model_module": "@jupyter-widgets/controls",
          "model_name": "DescriptionStyleModel",
          "model_module_version": "1.5.0",
          "state": {
            "_model_module": "@jupyter-widgets/controls",
            "_model_module_version": "1.5.0",
            "_model_name": "DescriptionStyleModel",
            "_view_count": null,
            "_view_module": "@jupyter-widgets/base",
            "_view_module_version": "1.2.0",
            "_view_name": "StyleView",
            "description_width": ""
          }
        },
        "595562552a614f6f9d1f7b0f6757121b": {
          "model_module": "@jupyter-widgets/controls",
          "model_name": "HBoxModel",
          "model_module_version": "1.5.0",
          "state": {
            "_dom_classes": [],
            "_model_module": "@jupyter-widgets/controls",
            "_model_module_version": "1.5.0",
            "_model_name": "HBoxModel",
            "_view_count": null,
            "_view_module": "@jupyter-widgets/controls",
            "_view_module_version": "1.5.0",
            "_view_name": "HBoxView",
            "box_style": "",
            "children": [
              "IPY_MODEL_c05ec9d3d46e49eea1fac87edd3dc293",
              "IPY_MODEL_238e038e59764f0faeb6fe42c63d78da",
              "IPY_MODEL_de5d86957cfd44a394c503386122b21b"
            ],
            "layout": "IPY_MODEL_7d8fe804ae494b2eaadc4f361f2287c4"
          }
        },
        "c05ec9d3d46e49eea1fac87edd3dc293": {
          "model_module": "@jupyter-widgets/controls",
          "model_name": "HTMLModel",
          "model_module_version": "1.5.0",
          "state": {
            "_dom_classes": [],
            "_model_module": "@jupyter-widgets/controls",
            "_model_module_version": "1.5.0",
            "_model_name": "HTMLModel",
            "_view_count": null,
            "_view_module": "@jupyter-widgets/controls",
            "_view_module_version": "1.5.0",
            "_view_name": "HTMLView",
            "description": "",
            "description_tooltip": null,
            "layout": "IPY_MODEL_b8948a1ea2024e07b88ce85823350e8e",
            "placeholder": "​",
            "style": "IPY_MODEL_8b0eedf432e84775b3296fef7dbd27c4",
            "value": "Downloading https://raw.githubusercontent.com/stanfordnlp/stanza-resources/main/resources_1.4.1.json: "
          }
        },
        "238e038e59764f0faeb6fe42c63d78da": {
          "model_module": "@jupyter-widgets/controls",
          "model_name": "FloatProgressModel",
          "model_module_version": "1.5.0",
          "state": {
            "_dom_classes": [],
            "_model_module": "@jupyter-widgets/controls",
            "_model_module_version": "1.5.0",
            "_model_name": "FloatProgressModel",
            "_view_count": null,
            "_view_module": "@jupyter-widgets/controls",
            "_view_module_version": "1.5.0",
            "_view_name": "ProgressView",
            "bar_style": "success",
            "description": "",
            "description_tooltip": null,
            "layout": "IPY_MODEL_d6363114dc334fc58509524861c42382",
            "max": 28918,
            "min": 0,
            "orientation": "horizontal",
            "style": "IPY_MODEL_e3712362df354b3486929e95038f6a49",
            "value": 28918
          }
        },
        "de5d86957cfd44a394c503386122b21b": {
          "model_module": "@jupyter-widgets/controls",
          "model_name": "HTMLModel",
          "model_module_version": "1.5.0",
          "state": {
            "_dom_classes": [],
            "_model_module": "@jupyter-widgets/controls",
            "_model_module_version": "1.5.0",
            "_model_name": "HTMLModel",
            "_view_count": null,
            "_view_module": "@jupyter-widgets/controls",
            "_view_module_version": "1.5.0",
            "_view_name": "HTMLView",
            "description": "",
            "description_tooltip": null,
            "layout": "IPY_MODEL_84cffed7e3f24c4391664cd1b131a650",
            "placeholder": "​",
            "style": "IPY_MODEL_57fe42b259014219853707e224fb0496",
            "value": " 193k/? [00:00&lt;00:00, 3.19MB/s]"
          }
        },
        "7d8fe804ae494b2eaadc4f361f2287c4": {
          "model_module": "@jupyter-widgets/base",
          "model_name": "LayoutModel",
          "model_module_version": "1.2.0",
          "state": {
            "_model_module": "@jupyter-widgets/base",
            "_model_module_version": "1.2.0",
            "_model_name": "LayoutModel",
            "_view_count": null,
            "_view_module": "@jupyter-widgets/base",
            "_view_module_version": "1.2.0",
            "_view_name": "LayoutView",
            "align_content": null,
            "align_items": null,
            "align_self": null,
            "border": null,
            "bottom": null,
            "display": null,
            "flex": null,
            "flex_flow": null,
            "grid_area": null,
            "grid_auto_columns": null,
            "grid_auto_flow": null,
            "grid_auto_rows": null,
            "grid_column": null,
            "grid_gap": null,
            "grid_row": null,
            "grid_template_areas": null,
            "grid_template_columns": null,
            "grid_template_rows": null,
            "height": null,
            "justify_content": null,
            "justify_items": null,
            "left": null,
            "margin": null,
            "max_height": null,
            "max_width": null,
            "min_height": null,
            "min_width": null,
            "object_fit": null,
            "object_position": null,
            "order": null,
            "overflow": null,
            "overflow_x": null,
            "overflow_y": null,
            "padding": null,
            "right": null,
            "top": null,
            "visibility": null,
            "width": null
          }
        },
        "b8948a1ea2024e07b88ce85823350e8e": {
          "model_module": "@jupyter-widgets/base",
          "model_name": "LayoutModel",
          "model_module_version": "1.2.0",
          "state": {
            "_model_module": "@jupyter-widgets/base",
            "_model_module_version": "1.2.0",
            "_model_name": "LayoutModel",
            "_view_count": null,
            "_view_module": "@jupyter-widgets/base",
            "_view_module_version": "1.2.0",
            "_view_name": "LayoutView",
            "align_content": null,
            "align_items": null,
            "align_self": null,
            "border": null,
            "bottom": null,
            "display": null,
            "flex": null,
            "flex_flow": null,
            "grid_area": null,
            "grid_auto_columns": null,
            "grid_auto_flow": null,
            "grid_auto_rows": null,
            "grid_column": null,
            "grid_gap": null,
            "grid_row": null,
            "grid_template_areas": null,
            "grid_template_columns": null,
            "grid_template_rows": null,
            "height": null,
            "justify_content": null,
            "justify_items": null,
            "left": null,
            "margin": null,
            "max_height": null,
            "max_width": null,
            "min_height": null,
            "min_width": null,
            "object_fit": null,
            "object_position": null,
            "order": null,
            "overflow": null,
            "overflow_x": null,
            "overflow_y": null,
            "padding": null,
            "right": null,
            "top": null,
            "visibility": null,
            "width": null
          }
        },
        "8b0eedf432e84775b3296fef7dbd27c4": {
          "model_module": "@jupyter-widgets/controls",
          "model_name": "DescriptionStyleModel",
          "model_module_version": "1.5.0",
          "state": {
            "_model_module": "@jupyter-widgets/controls",
            "_model_module_version": "1.5.0",
            "_model_name": "DescriptionStyleModel",
            "_view_count": null,
            "_view_module": "@jupyter-widgets/base",
            "_view_module_version": "1.2.0",
            "_view_name": "StyleView",
            "description_width": ""
          }
        },
        "d6363114dc334fc58509524861c42382": {
          "model_module": "@jupyter-widgets/base",
          "model_name": "LayoutModel",
          "model_module_version": "1.2.0",
          "state": {
            "_model_module": "@jupyter-widgets/base",
            "_model_module_version": "1.2.0",
            "_model_name": "LayoutModel",
            "_view_count": null,
            "_view_module": "@jupyter-widgets/base",
            "_view_module_version": "1.2.0",
            "_view_name": "LayoutView",
            "align_content": null,
            "align_items": null,
            "align_self": null,
            "border": null,
            "bottom": null,
            "display": null,
            "flex": null,
            "flex_flow": null,
            "grid_area": null,
            "grid_auto_columns": null,
            "grid_auto_flow": null,
            "grid_auto_rows": null,
            "grid_column": null,
            "grid_gap": null,
            "grid_row": null,
            "grid_template_areas": null,
            "grid_template_columns": null,
            "grid_template_rows": null,
            "height": null,
            "justify_content": null,
            "justify_items": null,
            "left": null,
            "margin": null,
            "max_height": null,
            "max_width": null,
            "min_height": null,
            "min_width": null,
            "object_fit": null,
            "object_position": null,
            "order": null,
            "overflow": null,
            "overflow_x": null,
            "overflow_y": null,
            "padding": null,
            "right": null,
            "top": null,
            "visibility": null,
            "width": null
          }
        },
        "e3712362df354b3486929e95038f6a49": {
          "model_module": "@jupyter-widgets/controls",
          "model_name": "ProgressStyleModel",
          "model_module_version": "1.5.0",
          "state": {
            "_model_module": "@jupyter-widgets/controls",
            "_model_module_version": "1.5.0",
            "_model_name": "ProgressStyleModel",
            "_view_count": null,
            "_view_module": "@jupyter-widgets/base",
            "_view_module_version": "1.2.0",
            "_view_name": "StyleView",
            "bar_color": null,
            "description_width": ""
          }
        },
        "84cffed7e3f24c4391664cd1b131a650": {
          "model_module": "@jupyter-widgets/base",
          "model_name": "LayoutModel",
          "model_module_version": "1.2.0",
          "state": {
            "_model_module": "@jupyter-widgets/base",
            "_model_module_version": "1.2.0",
            "_model_name": "LayoutModel",
            "_view_count": null,
            "_view_module": "@jupyter-widgets/base",
            "_view_module_version": "1.2.0",
            "_view_name": "LayoutView",
            "align_content": null,
            "align_items": null,
            "align_self": null,
            "border": null,
            "bottom": null,
            "display": null,
            "flex": null,
            "flex_flow": null,
            "grid_area": null,
            "grid_auto_columns": null,
            "grid_auto_flow": null,
            "grid_auto_rows": null,
            "grid_column": null,
            "grid_gap": null,
            "grid_row": null,
            "grid_template_areas": null,
            "grid_template_columns": null,
            "grid_template_rows": null,
            "height": null,
            "justify_content": null,
            "justify_items": null,
            "left": null,
            "margin": null,
            "max_height": null,
            "max_width": null,
            "min_height": null,
            "min_width": null,
            "object_fit": null,
            "object_position": null,
            "order": null,
            "overflow": null,
            "overflow_x": null,
            "overflow_y": null,
            "padding": null,
            "right": null,
            "top": null,
            "visibility": null,
            "width": null
          }
        },
        "57fe42b259014219853707e224fb0496": {
          "model_module": "@jupyter-widgets/controls",
          "model_name": "DescriptionStyleModel",
          "model_module_version": "1.5.0",
          "state": {
            "_model_module": "@jupyter-widgets/controls",
            "_model_module_version": "1.5.0",
            "_model_name": "DescriptionStyleModel",
            "_view_count": null,
            "_view_module": "@jupyter-widgets/base",
            "_view_module_version": "1.2.0",
            "_view_name": "StyleView",
            "description_width": ""
          }
        }
      }
    }
  },
  "nbformat": 4,
  "nbformat_minor": 0
}